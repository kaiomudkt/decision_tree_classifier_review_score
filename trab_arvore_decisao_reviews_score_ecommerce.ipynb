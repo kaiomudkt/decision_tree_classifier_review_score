{
  "nbformat": 4,
  "nbformat_minor": 0,
  "metadata": {
    "colab": {
      "name": "trab_arvore_decisao_reviews_score_ecommerce.ipynb",
      "provenance": [],
      "collapsed_sections": [],
      "include_colab_link": true
    },
    "kernelspec": {
      "name": "python3",
      "display_name": "Python 3"
    },
    "language_info": {
      "name": "python"
    }
  },
  "cells": [
    {
      "cell_type": "markdown",
      "metadata": {
        "id": "view-in-github",
        "colab_type": "text"
      },
      "source": [
        "<a href=\"https://colab.research.google.com/github/kaiomudkt/decision_tree_classifier_review_score/blob/main/trab_arvore_decisao_reviews_score_ecommerce.ipynb\" target=\"_parent\"><img src=\"https://colab.research.google.com/assets/colab-badge.svg\" alt=\"Open In Colab\"/></a>"
      ]
    },
    {
      "cell_type": "code",
      "metadata": {
        "id": "DsAVOaSeCUwC"
      },
      "source": [
        "import pandas as pd"
      ],
      "execution_count": null,
      "outputs": []
    },
    {
      "cell_type": "code",
      "metadata": {
        "id": "smBZbZA9EnBz",
        "colab": {
          "base_uri": "https://localhost:8080/"
        },
        "outputId": "cc4e147d-89d9-405a-de98-b5944df10d8f"
      },
      "source": [
        "from google.colab import drive\n",
        "drive.mount('/content/drive')"
      ],
      "execution_count": null,
      "outputs": [
        {
          "output_type": "stream",
          "text": [
            "Drive already mounted at /content/drive; to attempt to forcibly remount, call drive.mount(\"/content/drive\", force_remount=True).\n"
          ],
          "name": "stdout"
        }
      ]
    },
    {
      "cell_type": "markdown",
      "metadata": {
        "id": "NGMU93b2JE0j"
      },
      "source": [
        "### **Lendo os arquivos CSV**"
      ]
    },
    {
      "cell_type": "code",
      "metadata": {
        "id": "yCazN-MfCUjw"
      },
      "source": [
        "# reading csv files\n",
        "\n",
        "#\"product_id\",\"product_category_name\",\"product_name_lenght\",\"product_description_lenght\",\"product_photos_qty\",\"product_weight_g\",\"product_length_cm\",\"product_height_cm\",\"product_width_cm\"\n",
        "products = pd.read_csv('/content/drive/MyDrive/UFMS/7º Semestre/IA/dados_ecommerce_para_arvore_decisao/olist_products_dataset.csv')\n",
        "#\"order_id\",\"order_item_id\",\"product_id\",\"seller_id\",\"shipping_limit_date\",\"price\",\"freight_value\"\n",
        "order_items = pd.read_csv('/content/drive/MyDrive/UFMS/7º Semestre/IA/dados_ecommerce_para_arvore_decisao/olist_order_items_dataset.csv')\n",
        "#\"seller_id\",\"seller_zip_code_prefix\",\"seller_city\",\"seller_state\"\n",
        "# sellers = pd.read_csv('/content/drive/MyDrive/UFMS/7º Semestre/IA/dados_ecommerce_para_arvore_decisao/olist_sellers_dataset.csv')\n",
        "#\"order_id\",\"customer_id\",\"order_status\",\"order_purchase_timestamp\",\"order_approved_at\",\"order_delivered_carrier_date\",\"order_delivered_customer_date\",\"order_estimated_delivery_date\"\n",
        "orders = pd.read_csv('/content/drive/MyDrive/UFMS/7º Semestre/IA/dados_ecommerce_para_arvore_decisao/olist_orders_dataset.csv')\n",
        "#\"order_id\",\"payment_sequential\",\"payment_type\",\"payment_installments\",\"payment_value\"\n",
        "order_payments = pd.read_csv('/content/drive/MyDrive/UFMS/7º Semestre/IA/dados_ecommerce_para_arvore_decisao/olist_order_payments_dataset.csv')\n",
        "#\"customer_id\",\"customer_unique_id\",\"customer_zip_code_prefix\",\"customer_city\",\"customer_state\"\n",
        "# customers = pd.read_csv('/content/drive/MyDrive/UFMS/7º Semestre/IA/dados_ecommerce_para_arvore_decisao/olist_customers_dataset.csv')\n",
        "#\"review_id\",\"order_id\",\"review_score\",\"review_comment_title\",\"review_comment_message\",\"review_creation_date\",\"review_answer_timestamp\"\n",
        "order_reviews = pd.read_csv('/content/drive/MyDrive/UFMS/7º Semestre/IA/dados_ecommerce_para_arvore_decisao/olist_order_reviews_dataset.csv')\n",
        "#\"geolocation_zip_code_prefix\",\"geolocation_lat\",\"geolocation_lng\",\"geolocation_city\",\"geolocation_state\"\n",
        "# geolocation = pd.read_csv('/content/drive/MyDrive/UFMS/7º Semestre/IA/dados_ecommerce_para_arvore_decisao/olist_geolocation_dataset.csv')\n",
        "#product_category_name,product_category_name_english\n",
        "# products_category_name_translation = pd.read_csv('/content/drive/MyDrive/UFMS/7º Semestre/IA/dados_ecommerce_para_arvore_decisao/product_category_name_translation.csv')\n"
      ],
      "execution_count": null,
      "outputs": []
    },
    {
      "cell_type": "markdown",
      "metadata": {
        "id": "r_mfMFGDBRM0"
      },
      "source": [
        "Algumas chaves primarias estão repetindo"
      ]
    },
    {
      "cell_type": "code",
      "metadata": {
        "colab": {
          "base_uri": "https://localhost:8080/"
        },
        "id": "icmmirgxxulF",
        "outputId": "302c839b-e808-49ce-a675-267f360fcb75"
      },
      "source": [
        "max(products.product_id.value_counts())"
      ],
      "execution_count": null,
      "outputs": [
        {
          "output_type": "execute_result",
          "data": {
            "text/plain": [
              "1"
            ]
          },
          "metadata": {
            "tags": []
          },
          "execution_count": 195
        }
      ]
    },
    {
      "cell_type": "code",
      "metadata": {
        "colab": {
          "base_uri": "https://localhost:8080/"
        },
        "id": "-cbhpifYx6oM",
        "outputId": "463d0a9e-1f4c-4825-ba7c-c3c48b80840e"
      },
      "source": [
        "max(order_items.order_id.value_counts()) "
      ],
      "execution_count": null,
      "outputs": [
        {
          "output_type": "execute_result",
          "data": {
            "text/plain": [
              "21"
            ]
          },
          "metadata": {
            "tags": []
          },
          "execution_count": 196
        }
      ]
    },
    {
      "cell_type": "code",
      "metadata": {
        "colab": {
          "base_uri": "https://localhost:8080/"
        },
        "id": "afoDgJkfzDDn",
        "outputId": "fdec33d1-d0bb-4d1c-cd23-8ed87c6ba718"
      },
      "source": [
        "max(order_items.product_id.value_counts()) "
      ],
      "execution_count": null,
      "outputs": [
        {
          "output_type": "execute_result",
          "data": {
            "text/plain": [
              "527"
            ]
          },
          "metadata": {
            "tags": []
          },
          "execution_count": 197
        }
      ]
    },
    {
      "cell_type": "code",
      "metadata": {
        "colab": {
          "base_uri": "https://localhost:8080/"
        },
        "id": "ecdoEBqt4nVH",
        "outputId": "940f0cab-c08a-4fbe-e1d1-10c24c093f60"
      },
      "source": [
        "max(orders.order_id.value_counts()) "
      ],
      "execution_count": null,
      "outputs": [
        {
          "output_type": "execute_result",
          "data": {
            "text/plain": [
              "1"
            ]
          },
          "metadata": {
            "tags": []
          },
          "execution_count": 198
        }
      ]
    },
    {
      "cell_type": "markdown",
      "metadata": {
        "id": "dFUWynjmJPzK"
      },
      "source": [
        "### **Juntando as tabelas**"
      ]
    },
    {
      "cell_type": "code",
      "metadata": {
        "id": "uLwQ38oUCXrU"
      },
      "source": [
        "# dataframe with merge all tables\n",
        "dfFull = pd.merge(products, order_items, on='product_id', how='left')\n",
        "dfFull = pd.merge(dfFull, orders, on='order_id', how='inner')\n",
        "dfFull = pd.merge(dfFull, order_payments, on='order_id', how='inner')\n",
        "# dfFull = pd.merge(dfFull, customers, on='customer_id', how='inner')\n",
        "dfFull = pd.merge(dfFull, order_reviews, on='order_id', how='inner')\n",
        "#dfFull = pd.merge(dfFull, geolocation, on='zip_code_prefix', how='inner')\n",
        "# dfFull = pd.merge(dfFull, sellers, on='seller_id', how='inner')\n",
        "# dfFull = pd.merge(dfFull, products_category_name_translation, on='product_category_name', how='inner')\n",
        "# dfFull.groupby(by='product_category_name')\n",
        "# dfFull.groupby(by='review_score')"
      ],
      "execution_count": null,
      "outputs": []
    },
    {
      "cell_type": "markdown",
      "metadata": {
        "id": "lexa467HvVow"
      },
      "source": [
        "### **Processando algumas colunas parar gerar dados que talvez ajudem mais que os dados brutos**"
      ]
    },
    {
      "cell_type": "code",
      "metadata": {
        "colab": {
          "base_uri": "https://localhost:8080/",
          "height": 359
        },
        "id": "lzD1fVRXwrO0",
        "outputId": "e47eb8b8-ad5e-4dfb-f660-df81948bcccb"
      },
      "source": [
        "dfFull[['review_comment_message', 'review_score']][:10]"
      ],
      "execution_count": null,
      "outputs": [
        {
          "output_type": "execute_result",
          "data": {
            "text/html": [
              "<div>\n",
              "<style scoped>\n",
              "    .dataframe tbody tr th:only-of-type {\n",
              "        vertical-align: middle;\n",
              "    }\n",
              "\n",
              "    .dataframe tbody tr th {\n",
              "        vertical-align: top;\n",
              "    }\n",
              "\n",
              "    .dataframe thead th {\n",
              "        text-align: right;\n",
              "    }\n",
              "</style>\n",
              "<table border=\"1\" class=\"dataframe\">\n",
              "  <thead>\n",
              "    <tr style=\"text-align: right;\">\n",
              "      <th></th>\n",
              "      <th>review_comment_message</th>\n",
              "      <th>review_score</th>\n",
              "    </tr>\n",
              "  </thead>\n",
              "  <tbody>\n",
              "    <tr>\n",
              "      <th>0</th>\n",
              "      <td>Super adooorei o delineador ele é bem preto e ...</td>\n",
              "      <td>5</td>\n",
              "    </tr>\n",
              "    <tr>\n",
              "      <th>1</th>\n",
              "      <td>Excelente apontador! Em 3 segundos uma ponta p...</td>\n",
              "      <td>5</td>\n",
              "    </tr>\n",
              "    <tr>\n",
              "      <th>2</th>\n",
              "      <td>NaN</td>\n",
              "      <td>5</td>\n",
              "    </tr>\n",
              "    <tr>\n",
              "      <th>3</th>\n",
              "      <td>modelo comprado: travesseiro memoria carinho B...</td>\n",
              "      <td>1</td>\n",
              "    </tr>\n",
              "    <tr>\n",
              "      <th>4</th>\n",
              "      <td>NaN</td>\n",
              "      <td>5</td>\n",
              "    </tr>\n",
              "    <tr>\n",
              "      <th>5</th>\n",
              "      <td>NaN</td>\n",
              "      <td>5</td>\n",
              "    </tr>\n",
              "    <tr>\n",
              "      <th>6</th>\n",
              "      <td>Veio faltando o bebê conforto</td>\n",
              "      <td>2</td>\n",
              "    </tr>\n",
              "    <tr>\n",
              "      <th>7</th>\n",
              "      <td>NaN</td>\n",
              "      <td>5</td>\n",
              "    </tr>\n",
              "    <tr>\n",
              "      <th>8</th>\n",
              "      <td>Na entrega veio faltando os dois assento futon...</td>\n",
              "      <td>2</td>\n",
              "    </tr>\n",
              "    <tr>\n",
              "      <th>9</th>\n",
              "      <td>Na entrega veio faltando os dois assento futon...</td>\n",
              "      <td>2</td>\n",
              "    </tr>\n",
              "  </tbody>\n",
              "</table>\n",
              "</div>"
            ],
            "text/plain": [
              "                              review_comment_message  review_score\n",
              "0  Super adooorei o delineador ele é bem preto e ...             5\n",
              "1  Excelente apontador! Em 3 segundos uma ponta p...             5\n",
              "2                                                NaN             5\n",
              "3  modelo comprado: travesseiro memoria carinho B...             1\n",
              "4                                                NaN             5\n",
              "5                                                NaN             5\n",
              "6                     Veio faltando o bebê conforto              2\n",
              "7                                                NaN             5\n",
              "8  Na entrega veio faltando os dois assento futon...             2\n",
              "9  Na entrega veio faltando os dois assento futon...             2"
            ]
          },
          "metadata": {
            "tags": []
          },
          "execution_count": 200
        }
      ]
    },
    {
      "cell_type": "markdown",
      "metadata": {
        "id": "FV8OvIb7eCb2"
      },
      "source": [
        "**Substituindo classe review_score por nova coluna, com somente duas classes (bin_score)**"
      ]
    },
    {
      "cell_type": "code",
      "metadata": {
        "colab": {
          "base_uri": "https://localhost:8080/"
        },
        "id": "XQmAEzplcBOl",
        "outputId": "43fcef9d-fa84-43aa-e13b-3c107c554346"
      },
      "source": [
        "# soma review_score de 1,2,3 e 4 estrelas,                 conta a quantidade de items do review_score \n",
        "dfFull.review_score[dfFull.review_score!=5].value_counts().sum(), dfFull.review_score[dfFull.review_score==5].value_counts().sum()"
      ],
      "execution_count": null,
      "outputs": [
        {
          "output_type": "execute_result",
          "data": {
            "text/plain": [
              "(51945, 66370)"
            ]
          },
          "metadata": {
            "tags": []
          },
          "execution_count": 201
        }
      ]
    },
    {
      "cell_type": "code",
      "metadata": {
        "colab": {
          "base_uri": "https://localhost:8080/"
        },
        "id": "s8gpscEkejEm",
        "outputId": "f632d3a7-7cef-4f6c-f32d-818f80157cdd"
      },
      "source": [
        "#criando coluna 'bin_score' que vai ser meu 'y', substituindo 'review_score'\n",
        "#bin_score = score_binario, ou é 5 estrelas ou nao é 5 estrelas\n",
        "#faço isso para tentar balancear a coluna target de classificao\n",
        "dfFull['bin_score'] = 0\n",
        "\n",
        "index_minoritario = dfFull[dfFull.review_score!=5].index\n",
        "dfFull['bin_score'].iloc[index_minoritario] = int(0)\n",
        "\n",
        "index_majoritario =  dfFull[dfFull.review_score==5].index\n",
        "dfFull['bin_score'].iloc[index_majoritario] = int(1)"
      ],
      "execution_count": null,
      "outputs": [
        {
          "output_type": "stream",
          "text": [
            "/usr/local/lib/python3.7/dist-packages/pandas/core/indexing.py:670: SettingWithCopyWarning: \n",
            "A value is trying to be set on a copy of a slice from a DataFrame\n",
            "\n",
            "See the caveats in the documentation: https://pandas.pydata.org/pandas-docs/stable/user_guide/indexing.html#returning-a-view-versus-a-copy\n",
            "  iloc._setitem_with_indexer(indexer, value)\n",
            "/usr/local/lib/python3.7/dist-packages/pandas/core/indexing.py:670: SettingWithCopyWarning: \n",
            "A value is trying to be set on a copy of a slice from a DataFrame\n",
            "\n",
            "See the caveats in the documentation: https://pandas.pydata.org/pandas-docs/stable/user_guide/indexing.html#returning-a-view-versus-a-copy\n",
            "  iloc._setitem_with_indexer(indexer, value)\n"
          ],
          "name": "stderr"
        }
      ]
    },
    {
      "cell_type": "code",
      "metadata": {
        "colab": {
          "base_uri": "https://localhost:8080/"
        },
        "id": "H9Ol1uBx1mmJ",
        "outputId": "46fe8e71-375c-4158-cf1b-7c73d3fc8eff"
      },
      "source": [
        "dfFull['bin_score'].value_counts()"
      ],
      "execution_count": null,
      "outputs": [
        {
          "output_type": "execute_result",
          "data": {
            "text/plain": [
              "1    66370\n",
              "0    51945\n",
              "Name: bin_score, dtype: int64"
            ]
          },
          "metadata": {
            "tags": []
          },
          "execution_count": 203
        }
      ]
    },
    {
      "cell_type": "markdown",
      "metadata": {
        "id": "7GE2tcnBvyA2"
      },
      "source": [
        "**atraso na entrega (late delivery)**"
      ]
    },
    {
      "cell_type": "code",
      "metadata": {
        "id": "5BvCEwIi-iyj"
      },
      "source": [
        "# dfFull[['order_delivered_carrier_date', 'shipping_limit_date', 'late_delivery']][:10]"
      ],
      "execution_count": null,
      "outputs": []
    },
    {
      "cell_type": "code",
      "metadata": {
        "id": "TSCyUsV31WgF"
      },
      "source": [
        "data_entrega = pd.to_datetime(dfFull['order_delivered_carrier_date'])\n",
        "data_estimada = pd.to_datetime(dfFull['shipping_limit_date'])\n",
        "dfFull['late_delivery'] = data_entrega < data_estimada  "
      ],
      "execution_count": null,
      "outputs": []
    },
    {
      "cell_type": "markdown",
      "metadata": {
        "id": "VFhXmNVkHzU3"
      },
      "source": [
        "**classificando 'freight_value'**"
      ]
    },
    {
      "cell_type": "code",
      "metadata": {
        "colab": {
          "base_uri": "https://localhost:8080/"
        },
        "id": "yMKRzHPUH4mI",
        "outputId": "97f21cd1-05ae-4125-be4e-6593e0d0dbdc"
      },
      "source": [
        "mediana = dfFull['freight_value'].median()\n",
        "\n",
        "dfFull['bin_freight']  = 'init'\n",
        "\n",
        "index_bin_freight = dfFull[dfFull.freight_value >= mediana].index\n",
        "dfFull['bin_freight'].iloc[index_bin_freight] = 0\n",
        "\n",
        "index_bin_freight = dfFull[dfFull.freight_value < mediana].index\n",
        "dfFull['bin_freight'].iloc[index_bin_freight] = 1\n",
        "\n",
        "dfFull['bin_freight'].value_counts()"
      ],
      "execution_count": null,
      "outputs": [
        {
          "output_type": "stream",
          "text": [
            "/usr/local/lib/python3.7/dist-packages/pandas/core/indexing.py:670: SettingWithCopyWarning: \n",
            "A value is trying to be set on a copy of a slice from a DataFrame\n",
            "\n",
            "See the caveats in the documentation: https://pandas.pydata.org/pandas-docs/stable/user_guide/indexing.html#returning-a-view-versus-a-copy\n",
            "  iloc._setitem_with_indexer(indexer, value)\n",
            "/usr/local/lib/python3.7/dist-packages/pandas/core/indexing.py:670: SettingWithCopyWarning: \n",
            "A value is trying to be set on a copy of a slice from a DataFrame\n",
            "\n",
            "See the caveats in the documentation: https://pandas.pydata.org/pandas-docs/stable/user_guide/indexing.html#returning-a-view-versus-a-copy\n",
            "  iloc._setitem_with_indexer(indexer, value)\n"
          ],
          "name": "stderr"
        },
        {
          "output_type": "execute_result",
          "data": {
            "text/plain": [
              "0    59245\n",
              "1    59070\n",
              "Name: bin_freight, dtype: int64"
            ]
          },
          "metadata": {
            "tags": []
          },
          "execution_count": 206
        }
      ]
    },
    {
      "cell_type": "markdown",
      "metadata": {
        "id": "pPZU9EDYbS_y"
      },
      "source": [
        "### **Seleciono quais colunas(features) vou usar, mas sempre retiro sa colunas de ID**"
      ]
    },
    {
      "cell_type": "code",
      "metadata": {
        "id": "UQEq4ZUFi4W5"
      },
      "source": [
        "used_columns = ['bin_freight', 'late_delivery', 'product_description_lenght', 'product_photos_qty', 'price', 'payment_value']"
      ],
      "execution_count": null,
      "outputs": []
    },
    {
      "cell_type": "code",
      "metadata": {
        "id": "83XCfRlXvwdB"
      },
      "source": [
        "# dfFull['late_delivery'] = 'init'"
      ],
      "execution_count": null,
      "outputs": []
    },
    {
      "cell_type": "markdown",
      "metadata": {
        "id": "cJFjX2xFJeKM"
      },
      "source": [
        "**Y coluna target**,\n",
        "**X coluna features, \n",
        "que vou enviar para o algoritmo DecisionTreeClassifier**\n",
        "\n",
        "---\n",
        "\n"
      ]
    },
    {
      "cell_type": "code",
      "metadata": {
        "id": "0bv1vPQA3KCR"
      },
      "source": [
        "# y = dfFull['review_score']# estrelas: 1,2,3,4 e 5\n",
        "y = dfFull['bin_score']# ou tem muitas estrelas  (5 estrelas), ou tem \n",
        "X = dfFull.drop(dfFull.columns.difference(used_columns), 1) # retira todas as colunas do 'dfFull' que nao vamos usar em 'X'"
      ],
      "execution_count": null,
      "outputs": []
    },
    {
      "cell_type": "code",
      "metadata": {
        "colab": {
          "base_uri": "https://localhost:8080/"
        },
        "id": "xRbEooQybtEg",
        "outputId": "5d6ed391-dbb9-40c2-b79e-bc4d524ed911"
      },
      "source": [
        "dfFull.shape, X.shape, y.shape"
      ],
      "execution_count": null,
      "outputs": [
        {
          "output_type": "execute_result",
          "data": {
            "text/plain": [
              "((118315, 35), (118315, 6), (118315,))"
            ]
          },
          "metadata": {
            "tags": []
          },
          "execution_count": 210
        }
      ]
    },
    {
      "cell_type": "code",
      "metadata": {
        "colab": {
          "base_uri": "https://localhost:8080/"
        },
        "id": "uP7fnrIQhWA3",
        "outputId": "a79927b9-1dbb-4dc5-edc0-1211602c0257"
      },
      "source": [
        "# agora tenho uma coluna que dividi em duas partes o meu 'review_score'\n",
        "dfFull.bin_score.value_counts()"
      ],
      "execution_count": null,
      "outputs": [
        {
          "output_type": "execute_result",
          "data": {
            "text/plain": [
              "1    66370\n",
              "0    51945\n",
              "Name: bin_score, dtype: int64"
            ]
          },
          "metadata": {
            "tags": []
          },
          "execution_count": 211
        }
      ]
    },
    {
      "cell_type": "code",
      "metadata": {
        "colab": {
          "base_uri": "https://localhost:8080/"
        },
        "id": "EcRR_DiYUjnA",
        "outputId": "ee0359d6-da01-464a-bf58-a1c1e51f2853"
      },
      "source": [
        "dfFull.review_score.value_counts()"
      ],
      "execution_count": null,
      "outputs": [
        {
          "output_type": "execute_result",
          "data": {
            "text/plain": [
              "5    66370\n",
              "4    22352\n",
              "1    15427\n",
              "3     9965\n",
              "2     4201\n",
              "Name: review_score, dtype: int64"
            ]
          },
          "metadata": {
            "tags": []
          },
          "execution_count": 212
        }
      ]
    },
    {
      "cell_type": "markdown",
      "metadata": {
        "id": "3Dev2aGrMMIp"
      },
      "source": [
        "**splitando dataframe em treino e teste**"
      ]
    },
    {
      "cell_type": "code",
      "metadata": {
        "id": "SZpzNSd4MKsF"
      },
      "source": [
        "# split X and y into training and testing sets\n",
        "from sklearn.model_selection import train_test_split\n",
        "X_train, X_test, y_train, y_test = train_test_split(X, y, test_size=0.33, random_state=42) "
      ],
      "execution_count": null,
      "outputs": []
    },
    {
      "cell_type": "code",
      "metadata": {
        "id": "SZJAW1B3fMhU"
      },
      "source": [
        "#  # test_index: é o index das linhas de 30% do dataset\n",
        "#  # train_index: é o idex das linhas de 70% do dataset\n",
        "# from sklearn.model_selection import StratifiedShuffleSplit\n",
        "# sss = StratifiedShuffleSplit(n_splits=1, test_size=0.30, random_state=42)\n",
        "# for train_index, test_index in sss.split(X,y): # dividi dataframe\n",
        "# # for train_index, test_index in sss.split(dfFull,y): # dividi dataframe\n",
        "#   # T R E I N O\n",
        "#   X_train = X.iloc[train_index]\n",
        "#   y_train = y.iloc[train_index]\n",
        "#   # T E S T E\n",
        "#   X_test = X.iloc[test_index]\n",
        "#   y_test = y.iloc[test_index]"
      ],
      "execution_count": null,
      "outputs": []
    },
    {
      "cell_type": "code",
      "metadata": {
        "colab": {
          "base_uri": "https://localhost:8080/"
        },
        "id": "tqB5-tGrsiAn",
        "outputId": "9f7560a8-9af3-4fb3-c28a-cf8d00be4d20"
      },
      "source": [
        "# 70% de 116581 = 81606.7\n",
        "# 70% de 116581 = 34974.3\n",
        "dfFull.shape, X_train.shape, y_train.shape, X_test.shape, y_test.shape"
      ],
      "execution_count": null,
      "outputs": [
        {
          "output_type": "execute_result",
          "data": {
            "text/plain": [
              "((118315, 35), (79271, 6), (79271,), (39044, 6), (39044,))"
            ]
          },
          "metadata": {
            "tags": []
          },
          "execution_count": 215
        }
      ]
    },
    {
      "cell_type": "markdown",
      "metadata": {
        "id": "3r9DHexxPtlX"
      },
      "source": [
        "**balanceando as classes com resample, depois do split, no X_train** , quando dividi a classe review_score em somente duas, ja deu uma balanceada boa entre as cinco classes, mas vou fazer mais uma balanceamento no 'bin_score' para testar se melhora a acuracia, seguindo a ideia que o professor conversou na aula do dia 27 mai 2021"
      ]
    },
    {
      "cell_type": "code",
      "metadata": {
        "id": "BkfKc_phwbZW"
      },
      "source": [
        "# index_X_train = X_train.index\n",
        "# a = X_[index_X_train in index_majoritario]"
      ],
      "execution_count": null,
      "outputs": []
    },
    {
      "cell_type": "code",
      "metadata": {
        "id": "LC_V7T0Ix9hh"
      },
      "source": [
        "# X_train_upsampled.columns"
      ],
      "execution_count": null,
      "outputs": []
    },
    {
      "cell_type": "code",
      "metadata": {
        "id": "ZYaOuKXIMpIa"
      },
      "source": [
        "#@title shape dos dados: originais, balanceado, de treino, de teste\n",
        "# check the shape of X_train and X_test\n",
        "# 33% de 116581: 38471.73 E  67% de 116581: 78109.27\n",
        "# dfFull.shape, df_upsampled.shape, X_train.shape, X_test.shape"
      ],
      "execution_count": null,
      "outputs": []
    },
    {
      "cell_type": "markdown",
      "metadata": {
        "id": "DyEziwHWNIv1"
      },
      "source": [
        "**Engenharia de recursos, processo de transformar dados brutos em recursos úteis que nos ajudam a entender melhor nosso modelo e aumentar seu poder preditivo.**"
      ]
    },
    {
      "cell_type": "code",
      "metadata": {
        "id": "Bvkn5zFxNH89"
      },
      "source": [
        "# check data types in X_train\n",
        "# X_train.dtypes"
      ],
      "execution_count": null,
      "outputs": []
    },
    {
      "cell_type": "code",
      "metadata": {
        "id": "LdX0Yw7ENUOz"
      },
      "source": [
        "# X_train.head()"
      ],
      "execution_count": null,
      "outputs": []
    },
    {
      "cell_type": "code",
      "metadata": {
        "id": "Bf9P4XXsqdpM",
        "colab": {
          "base_uri": "https://localhost:8080/"
        },
        "outputId": "e03bec0a-01d0-4542-d41e-5ffccba20650"
      },
      "source": [
        "pip install --upgrade category_encoders"
      ],
      "execution_count": null,
      "outputs": [
        {
          "output_type": "stream",
          "text": [
            "Requirement already up-to-date: category_encoders in /usr/local/lib/python3.7/dist-packages (2.2.2)\n",
            "Requirement already satisfied, skipping upgrade: scikit-learn>=0.20.0 in /usr/local/lib/python3.7/dist-packages (from category_encoders) (0.22.2.post1)\n",
            "Requirement already satisfied, skipping upgrade: patsy>=0.5.1 in /usr/local/lib/python3.7/dist-packages (from category_encoders) (0.5.1)\n",
            "Requirement already satisfied, skipping upgrade: scipy>=1.0.0 in /usr/local/lib/python3.7/dist-packages (from category_encoders) (1.4.1)\n",
            "Requirement already satisfied, skipping upgrade: pandas>=0.21.1 in /usr/local/lib/python3.7/dist-packages (from category_encoders) (1.1.5)\n",
            "Requirement already satisfied, skipping upgrade: statsmodels>=0.9.0 in /usr/local/lib/python3.7/dist-packages (from category_encoders) (0.10.2)\n",
            "Requirement already satisfied, skipping upgrade: numpy>=1.14.0 in /usr/local/lib/python3.7/dist-packages (from category_encoders) (1.19.5)\n",
            "Requirement already satisfied, skipping upgrade: joblib>=0.11 in /usr/local/lib/python3.7/dist-packages (from scikit-learn>=0.20.0->category_encoders) (1.0.1)\n",
            "Requirement already satisfied, skipping upgrade: six in /usr/local/lib/python3.7/dist-packages (from patsy>=0.5.1->category_encoders) (1.15.0)\n",
            "Requirement already satisfied, skipping upgrade: python-dateutil>=2.7.3 in /usr/local/lib/python3.7/dist-packages (from pandas>=0.21.1->category_encoders) (2.8.1)\n",
            "Requirement already satisfied, skipping upgrade: pytz>=2017.2 in /usr/local/lib/python3.7/dist-packages (from pandas>=0.21.1->category_encoders) (2018.9)\n"
          ],
          "name": "stdout"
        }
      ]
    },
    {
      "cell_type": "code",
      "metadata": {
        "id": "uXOg72eoN59B",
        "colab": {
          "base_uri": "https://localhost:8080/"
        },
        "outputId": "75474aaf-d4aa-4cf9-eb31-6b1f67a39b3e"
      },
      "source": [
        "# encode variables with ordinal encoding\n",
        "\n",
        "# import category encoders\n",
        "import category_encoders as ce\n",
        "encoder = ce.OrdinalEncoder(cols=used_columns)\n",
        "# X_train_encoder = encoder.fit_transform(X_train_upsampled)\n",
        "X_train_encoder = encoder.fit_transform(X_train)\n",
        "X_test_encoder = encoder.transform(X_test)\n",
        "# X_train_encoder"
      ],
      "execution_count": null,
      "outputs": [
        {
          "output_type": "stream",
          "text": [
            "/usr/local/lib/python3.7/dist-packages/category_encoders/utils.py:21: FutureWarning: is_categorical is deprecated and will be removed in a future version.  Use is_categorical_dtype instead\n",
            "  elif pd.api.types.is_categorical(cols):\n"
          ],
          "name": "stderr"
        }
      ]
    },
    {
      "cell_type": "code",
      "metadata": {
        "id": "sbi4KTjvGmSX"
      },
      "source": [
        "# #feature scaling\n",
        "# from sklearn.preprocessing import StandardScaler\n",
        "# sc_X = StandardScaler()\n",
        "# X_train = sc_X.fit_transform(X_train)\n",
        "# X_test = sc_X.transform(X_test)\n",
        "# X_train_encoder"
      ],
      "execution_count": null,
      "outputs": []
    },
    {
      "cell_type": "markdown",
      "metadata": {
        "id": "XfrP6insPaaQ"
      },
      "source": [
        "**com dados prontos, podemos usar a arvore de decisao classificadora**"
      ]
    },
    {
      "cell_type": "code",
      "metadata": {
        "id": "sKd3hNKxzUgO"
      },
      "source": [
        "# from sklearn import tree\n",
        "from sklearn.tree import DecisionTreeClassifier"
      ],
      "execution_count": null,
      "outputs": []
    },
    {
      "cell_type": "markdown",
      "metadata": {
        "id": "RB_hHWhfPYYf"
      },
      "source": [
        "**Preveja os resultados do conjunto de testes com critério: entropia ou gini**"
      ]
    },
    {
      "cell_type": "code",
      "metadata": {
        "colab": {
          "base_uri": "https://localhost:8080/"
        },
        "id": "ghK6pNFa2bLI",
        "outputId": "73546e3d-ee2c-4a05-dec7-2700621381fc"
      },
      "source": [
        "X_train_encoder.shape ,y_train.shape\n"
      ],
      "execution_count": null,
      "outputs": [
        {
          "output_type": "execute_result",
          "data": {
            "text/plain": [
              "((79271, 6), (79271,))"
            ]
          },
          "metadata": {
            "tags": []
          },
          "execution_count": 225
        }
      ]
    },
    {
      "cell_type": "code",
      "metadata": {
        "id": "LTTlgXsVzyD2",
        "colab": {
          "base_uri": "https://localhost:8080/"
        },
        "outputId": "cda5d4b0-d020-4f86-e4fb-ecbabe543431"
      },
      "source": [
        "# fit the model\n",
        "# {1:6, 2:9, 3:9,   4:4,   5:1}, \n",
        "# {1:2, 2:7, 3:2.5, 4:1.5, 5:0.5}\n",
        "# {1:2, 2:6, 3:3.5, 4:1.5, 5:0.5}\n",
        "# {1: 0.2, 2: 0.2, 3: 0.3, 4: 0.1, 5: 0.05}\n",
        "# {1: 0.15, 2: 0.2, 3: 0.3, 4: 0.1, 5: 0.05}\n",
        "# {1:.2, 2:.0, 3:.2, 4:.32, 5:.12}\n",
        "clf = DecisionTreeClassifier(criterion='gini', max_depth=3, class_weight={0:.4, 1:.6}, random_state=0)\n",
        "# clf = DecisionTreeClassifier(criterion='gini', max_depth=3, class_weight={1:2, 2:6, 3:3.5, 4:1.5, 5:0.5}, random_state=0)\n",
        "\n",
        "# clf = DecisionTreeClassifier(criterion = \"entropy\", splitter = \"random\", max_depth = 2,  min_samples_split = 5, min_samples_leaf = 2, max_features = 2)\n",
        "clf.fit(X_train_encoder, y_train)"
      ],
      "execution_count": null,
      "outputs": [
        {
          "output_type": "execute_result",
          "data": {
            "text/plain": [
              "DecisionTreeClassifier(ccp_alpha=0.0, class_weight={0: 0.4, 1: 0.6},\n",
              "                       criterion='gini', max_depth=3, max_features=None,\n",
              "                       max_leaf_nodes=None, min_impurity_decrease=0.0,\n",
              "                       min_impurity_split=None, min_samples_leaf=1,\n",
              "                       min_samples_split=2, min_weight_fraction_leaf=0.0,\n",
              "                       presort='deprecated', random_state=0, splitter='best')"
            ]
          },
          "metadata": {
            "tags": []
          },
          "execution_count": 226
        }
      ]
    },
    {
      "cell_type": "markdown",
      "metadata": {
        "id": "iloDVq3vQ9N1"
      },
      "source": [
        "**Preveja os resultados do conjunto de testes**"
      ]
    },
    {
      "cell_type": "code",
      "metadata": {
        "id": "Xgr4mQ_-Q6TZ"
      },
      "source": [
        "y_pred = clf.predict(X_test_encoder)"
      ],
      "execution_count": null,
      "outputs": []
    },
    {
      "cell_type": "code",
      "metadata": {
        "id": "UVHxKnc8fl6I",
        "colab": {
          "base_uri": "https://localhost:8080/"
        },
        "outputId": "58f0a930-83d9-4a17-f0a7-6f8b3c2ef728"
      },
      "source": [
        "#@title quais são as estrelas que aparecem e quantos produtos cada uma delas tem?\n",
        "import numpy as np\n",
        "unique_elements, counts_elements = np.unique(y_pred, return_counts=True)\n",
        "print(np.asarray((unique_elements, counts_elements)))"
      ],
      "execution_count": null,
      "outputs": [
        {
          "output_type": "stream",
          "text": [
            "[[    0     1]\n",
            " [ 2610 36434]]\n"
          ],
          "name": "stdout"
        }
      ]
    },
    {
      "cell_type": "markdown",
      "metadata": {
        "id": "7XOOo_epRHHG"
      },
      "source": [
        "**Verifique a pontuação de precisão**"
      ]
    },
    {
      "cell_type": "code",
      "metadata": {
        "id": "XAybRp04RHm8",
        "colab": {
          "base_uri": "https://localhost:8080/"
        },
        "outputId": "ac12ad0f-b1ca-4354-cbf8-0415b28ea3e2"
      },
      "source": [
        "from sklearn.metrics import accuracy_score\n",
        "print('Pontos de acuracia do modelo, olhe o criterio usado: {0:0.4f}'. format(accuracy_score(y_test, y_pred)))"
      ],
      "execution_count": null,
      "outputs": [
        {
          "output_type": "stream",
          "text": [
            "Pontos de acuracia do modelo, olhe o criterio usado: 0.5754\n"
          ],
          "name": "stdout"
        }
      ]
    },
    {
      "cell_type": "markdown",
      "metadata": {
        "id": "U8Qu2BuvTI6t"
      },
      "source": [
        "**comparando a precisão do conjunto de treinamento e teste para verificar se há overfitting**"
      ]
    },
    {
      "cell_type": "code",
      "metadata": {
        "id": "5iBuOR0OTKq_",
        "colab": {
          "base_uri": "https://localhost:8080/"
        },
        "outputId": "d50c5ba5-0361-44b0-e06e-c6a8cb000490"
      },
      "source": [
        "y_pred_train = clf.predict(X_train_encoder)\n",
        "y_pred_train"
      ],
      "execution_count": null,
      "outputs": [
        {
          "output_type": "execute_result",
          "data": {
            "text/plain": [
              "array([1, 1, 1, ..., 1, 1, 1])"
            ]
          },
          "metadata": {
            "tags": []
          },
          "execution_count": 230
        }
      ]
    },
    {
      "cell_type": "code",
      "metadata": {
        "id": "Y7NkD22vTSec",
        "colab": {
          "base_uri": "https://localhost:8080/"
        },
        "outputId": "1619a7e6-3368-41a9-a7cf-cc348bdf2d61"
      },
      "source": [
        "print('Training-set accuracy score: {0:0.4f}'. format(accuracy_score(y_train, y_pred_train)))"
      ],
      "execution_count": null,
      "outputs": [
        {
          "output_type": "stream",
          "text": [
            "Training-set accuracy score: 0.5741\n"
          ],
          "name": "stdout"
        }
      ]
    },
    {
      "cell_type": "markdown",
      "metadata": {
        "id": "5SySXlc_TbwN"
      },
      "source": [
        "Check for overfitting and underfitting"
      ]
    },
    {
      "cell_type": "code",
      "metadata": {
        "id": "m2YjHh7WTW98",
        "colab": {
          "base_uri": "https://localhost:8080/"
        },
        "outputId": "a0a8db33-60b9-4fdb-bc13-0c320e520d4b"
      },
      "source": [
        "# print the scores on training and test set\n",
        "print('Training set score: {:.4f}'.format(clf.score(X_train_encoder, y_train)))\n",
        "print('Test set score: {:.4f}'.format(clf.score(X_test_encoder, y_test)))"
      ],
      "execution_count": null,
      "outputs": [
        {
          "output_type": "stream",
          "text": [
            "Training set score: 0.5741\n",
            "Test set score: 0.5754\n"
          ],
          "name": "stdout"
        }
      ]
    },
    {
      "cell_type": "markdown",
      "metadata": {
        "id": "b4A6acsyTpuZ"
      },
      "source": [
        "Esses dois valores são bastante comparáveis?. há sinais de sobreajuste?"
      ]
    },
    {
      "cell_type": "markdown",
      "metadata": {
        "id": "fYQb3vOtTyO5"
      },
      "source": [
        "**Visualize decision-trees**"
      ]
    },
    {
      "cell_type": "code",
      "metadata": {
        "id": "GFAx4UDwUACI"
      },
      "source": [
        "import matplotlib.pyplot as plt # data visualization"
      ],
      "execution_count": null,
      "outputs": []
    },
    {
      "cell_type": "code",
      "metadata": {
        "id": "zZmRX9wlTzRJ",
        "colab": {
          "base_uri": "https://localhost:8080/",
          "height": 558
        },
        "outputId": "eef30922-6be3-4d33-a668-cbb6920ce052"
      },
      "source": [
        "plt.figure(figsize=(10,5))\n",
        "\n",
        "from sklearn import tree\n",
        "\n",
        "tree.plot_tree(clf.fit(X_train_encoder, y_train)) "
      ],
      "execution_count": null,
      "outputs": [
        {
          "output_type": "execute_result",
          "data": {
            "text/plain": [
              "[Text(279.0, 237.82500000000002, 'X[4] <= 1.5\\ngini = 0.451\\nsamples = 79271\\nvalue = [13958.0, 26625.6]'),\n",
              " Text(139.5, 169.875, 'X[5] <= 1.5\\ngini = 0.441\\nsamples = 71089\\nvalue = [12020.0, 24623.4]'),\n",
              " Text(69.75, 101.92500000000001, 'X[0] <= 502.5\\ngini = 0.45\\nsamples = 35441\\nvalue = [6218.8, 11936.4]'),\n",
              " Text(34.875, 33.974999999999994, 'gini = 0.459\\nsamples = 15390\\nvalue = [2794.0, 5043.0]'),\n",
              " Text(104.625, 33.974999999999994, 'gini = 0.443\\nsamples = 20051\\nvalue = [3424.8, 6893.4]'),\n",
              " Text(209.25, 101.92500000000001, 'X[2] <= 455.5\\ngini = 0.431\\nsamples = 35648\\nvalue = [5801.2, 12687.0]'),\n",
              " Text(174.375, 33.974999999999994, 'gini = 0.436\\nsamples = 24854\\nvalue = [4133.2, 8712.6]'),\n",
              " Text(244.125, 33.974999999999994, 'gini = 0.416\\nsamples = 10794\\nvalue = [1668.0, 3974.4]'),\n",
              " Text(418.5, 169.875, 'X[2] <= 3666.5\\ngini = 0.5\\nsamples = 8182\\nvalue = [1938.0, 2002.2]'),\n",
              " Text(348.75, 101.92500000000001, 'X[0] <= 391.5\\ngini = 0.5\\nsamples = 7932\\nvalue = [1869.2, 1955.4]'),\n",
              " Text(313.875, 33.974999999999994, 'gini = 0.498\\nsamples = 2734\\nvalue = [620.4, 709.8]'),\n",
              " Text(383.625, 33.974999999999994, 'gini = 0.5\\nsamples = 5198\\nvalue = [1248.8, 1245.6]'),\n",
              " Text(488.25, 101.92500000000001, 'X[3] <= 8506.0\\ngini = 0.482\\nsamples = 250\\nvalue = [68.8, 46.8]'),\n",
              " Text(453.375, 33.974999999999994, 'gini = 0.492\\nsamples = 52\\nvalue = [11.2, 14.4]'),\n",
              " Text(523.125, 33.974999999999994, 'gini = 0.461\\nsamples = 198\\nvalue = [57.6, 32.4]')]"
            ]
          },
          "metadata": {
            "tags": []
          },
          "execution_count": 234
        },
        {
          "output_type": "display_data",
          "data": {
            "image/png": "[encoded data removed]",
            "text/plain": [
              "<Figure size 720x360 with 1 Axes>"
            ]
          },
          "metadata": {
            "tags": [],
            "needs_background": "light"
          }
        }
      ]
    },
    {
      "cell_type": "markdown",
      "metadata": {
        "id": "UQWw_XLTUV7F"
      },
      "source": [
        "Visualize decision-trees with graphviz"
      ]
    },
    {
      "cell_type": "code",
      "metadata": {
        "id": "KoXW1EkqTt8c",
        "colab": {
          "base_uri": "https://localhost:8080/",
          "height": 538
        },
        "outputId": "2f0b55a5-d0ac-41f9-ef81-13b26571a2b5"
      },
      "source": [
        "import graphviz \n",
        "dot_data = tree.export_graphviz(clf, out_file=None, \n",
        "                              feature_names=X_train_encoder.columns,  \n",
        "                              filled=True, rounded=True,  \n",
        "                              special_characters=True)\n",
        "\n",
        "graph = graphviz.Source(dot_data) \n",
        "\n",
        "graph "
      ],
      "execution_count": null,
      "outputs": [
        {
          "output_type": "execute_result",
          "data": {
            "text/plain": [
              "<graphviz.files.Source at 0x7f3505ad22d0>"
            ],
            "image/svg+xml": "<?xml version=\"1.0\" encoding=\"UTF-8\" standalone=\"no\"?>\n<!DOCTYPE svg PUBLIC \"-//W3C//DTD SVG 1.1//EN\"\n \"http://www.w3.org/Graphics/SVG/1.1/DTD/svg11.dtd\">\n<!-- Generated by graphviz version 2.40.1 (20161225.0304)\n -->\n<!-- Title: Tree Pages: 1 -->\n<svg width=\"1437pt\" height=\"373pt\"\n viewBox=\"0.00 0.00 1436.50 373.00\" xmlns=\"http://www.w3.org/2000/svg\" xmlns:xlink=\"http://www.w3.org/1999/xlink\">\n<g id=\"graph0\" class=\"graph\" transform=\"scale(1 1) rotate(0) translate(4 369)\">\n<title>Tree</title>\n<polygon fill=\"#ffffff\" stroke=\"transparent\" points=\"-4,4 -4,-369 1432.5,-369 1432.5,4 -4,4\"/>\n<!-- 0 -->\n<g id=\"node1\" class=\"node\">\n<title>0</title>\n<path fill=\"#a1d0f3\" stroke=\"#000000\" d=\"M807,-365C807,-365 642,-365 642,-365 636,-365 630,-359 630,-353 630,-353 630,-309 630,-309 630,-303 636,-297 642,-297 642,-297 807,-297 807,-297 813,-297 819,-303 819,-309 819,-309 819,-353 819,-353 819,-359 813,-365 807,-365\"/>\n<text text-anchor=\"start\" x=\"665.5\" y=\"-349.8\" font-family=\"Helvetica,sans-Serif\" font-size=\"14.00\" fill=\"#000000\">late_delivery ≤ 1.5</text>\n<text text-anchor=\"start\" x=\"686.5\" y=\"-334.8\" font-family=\"Helvetica,sans-Serif\" font-size=\"14.00\" fill=\"#000000\">gini = 0.451</text>\n<text text-anchor=\"start\" x=\"668.5\" y=\"-319.8\" font-family=\"Helvetica,sans-Serif\" font-size=\"14.00\" fill=\"#000000\">samples = 79271</text>\n<text text-anchor=\"start\" x=\"638\" y=\"-304.8\" font-family=\"Helvetica,sans-Serif\" font-size=\"14.00\" fill=\"#000000\">value = [13958.0, 26625.6]</text>\n</g>\n<!-- 1 -->\n<g id=\"node2\" class=\"node\">\n<title>1</title>\n<path fill=\"#9acdf2\" stroke=\"#000000\" d=\"M692,-261C692,-261 527,-261 527,-261 521,-261 515,-255 515,-249 515,-249 515,-205 515,-205 515,-199 521,-193 527,-193 527,-193 692,-193 692,-193 698,-193 704,-199 704,-205 704,-205 704,-249 704,-249 704,-255 698,-261 692,-261\"/>\n<text text-anchor=\"start\" x=\"558\" y=\"-245.8\" font-family=\"Helvetica,sans-Serif\" font-size=\"14.00\" fill=\"#000000\">bin_freight ≤ 1.5</text>\n<text text-anchor=\"start\" x=\"571.5\" y=\"-230.8\" font-family=\"Helvetica,sans-Serif\" font-size=\"14.00\" fill=\"#000000\">gini = 0.441</text>\n<text text-anchor=\"start\" x=\"553.5\" y=\"-215.8\" font-family=\"Helvetica,sans-Serif\" font-size=\"14.00\" fill=\"#000000\">samples = 71089</text>\n<text text-anchor=\"start\" x=\"523\" y=\"-200.8\" font-family=\"Helvetica,sans-Serif\" font-size=\"14.00\" fill=\"#000000\">value = [12020.0, 24623.4]</text>\n</g>\n<!-- 0&#45;&gt;1 -->\n<g id=\"edge1\" class=\"edge\">\n<title>0&#45;&gt;1</title>\n<path fill=\"none\" stroke=\"#000000\" d=\"M686.8447,-296.9465C676.6187,-287.6986 665.4382,-277.5876 654.8359,-267.9994\"/>\n<polygon fill=\"#000000\" stroke=\"#000000\" points=\"657.0044,-265.2416 647.2399,-261.13 652.3092,-270.4334 657.0044,-265.2416\"/>\n<text text-anchor=\"middle\" x=\"648.494\" y=\"-282.3985\" font-family=\"Helvetica,sans-Serif\" font-size=\"14.00\" fill=\"#000000\">True</text>\n</g>\n<!-- 8 -->\n<g id=\"node9\" class=\"node\">\n<title>8</title>\n<path fill=\"#f9fcfe\" stroke=\"#000000\" d=\"M966,-261C966,-261 817,-261 817,-261 811,-261 805,-255 805,-249 805,-249 805,-205 805,-205 805,-199 811,-193 817,-193 817,-193 966,-193 966,-193 972,-193 978,-199 978,-205 978,-205 978,-249 978,-249 978,-255 972,-261 966,-261\"/>\n<text text-anchor=\"start\" x=\"845.5\" y=\"-245.8\" font-family=\"Helvetica,sans-Serif\" font-size=\"14.00\" fill=\"#000000\">price ≤ 3666.5</text>\n<text text-anchor=\"start\" x=\"862\" y=\"-230.8\" font-family=\"Helvetica,sans-Serif\" font-size=\"14.00\" fill=\"#000000\">gini = 0.5</text>\n<text text-anchor=\"start\" x=\"839.5\" y=\"-215.8\" font-family=\"Helvetica,sans-Serif\" font-size=\"14.00\" fill=\"#000000\">samples = 8182</text>\n<text text-anchor=\"start\" x=\"813\" y=\"-200.8\" font-family=\"Helvetica,sans-Serif\" font-size=\"14.00\" fill=\"#000000\">value = [1938.0, 2002.2]</text>\n</g>\n<!-- 0&#45;&gt;8 -->\n<g id=\"edge8\" class=\"edge\">\n<title>0&#45;&gt;8</title>\n<path fill=\"none\" stroke=\"#000000\" d=\"M779.182,-296.9465C794.7529,-287.2497 811.8476,-276.6039 827.9004,-266.6069\"/>\n<polygon fill=\"#000000\" stroke=\"#000000\" points=\"830.0568,-269.3873 836.6951,-261.13 826.3563,-263.4453 830.0568,-269.3873\"/>\n<text text-anchor=\"middle\" x=\"831.0342\" y=\"-281.7807\" font-family=\"Helvetica,sans-Serif\" font-size=\"14.00\" fill=\"#000000\">False</text>\n</g>\n<!-- 2 -->\n<g id=\"node3\" class=\"node\">\n<title>2</title>\n<path fill=\"#a0d0f3\" stroke=\"#000000\" d=\"M387.5,-157C387.5,-157 167.5,-157 167.5,-157 161.5,-157 155.5,-151 155.5,-145 155.5,-145 155.5,-101 155.5,-101 155.5,-95 161.5,-89 167.5,-89 167.5,-89 387.5,-89 387.5,-89 393.5,-89 399.5,-95 399.5,-101 399.5,-101 399.5,-145 399.5,-145 399.5,-151 393.5,-157 387.5,-157\"/>\n<text text-anchor=\"start\" x=\"163.5\" y=\"-141.8\" font-family=\"Helvetica,sans-Serif\" font-size=\"14.00\" fill=\"#000000\">product_description_lenght ≤ 502.5</text>\n<text text-anchor=\"start\" x=\"244\" y=\"-126.8\" font-family=\"Helvetica,sans-Serif\" font-size=\"14.00\" fill=\"#000000\">gini = 0.45</text>\n<text text-anchor=\"start\" x=\"221.5\" y=\"-111.8\" font-family=\"Helvetica,sans-Serif\" font-size=\"14.00\" fill=\"#000000\">samples = 35441</text>\n<text text-anchor=\"start\" x=\"195\" y=\"-96.8\" font-family=\"Helvetica,sans-Serif\" font-size=\"14.00\" fill=\"#000000\">value = [6218.8, 11936.4]</text>\n</g>\n<!-- 1&#45;&gt;2 -->\n<g id=\"edge2\" class=\"edge\">\n<title>1&#45;&gt;2</title>\n<path fill=\"none\" stroke=\"#000000\" d=\"M514.8064,-197.337C477.7905,-185.7416 434.9342,-172.3167 395.9105,-160.0925\"/>\n<polygon fill=\"#000000\" stroke=\"#000000\" points=\"396.6668,-156.6617 386.0777,-157.0123 394.5742,-163.3416 396.6668,-156.6617\"/>\n</g>\n<!-- 5 -->\n<g id=\"node6\" class=\"node\">\n<title>5</title>\n<path fill=\"#94caf1\" stroke=\"#000000\" d=\"M688,-157C688,-157 531,-157 531,-157 525,-157 519,-151 519,-145 519,-145 519,-101 519,-101 519,-95 525,-89 531,-89 531,-89 688,-89 688,-89 694,-89 700,-95 700,-101 700,-101 700,-145 700,-145 700,-151 694,-157 688,-157\"/>\n<text text-anchor=\"start\" x=\"567.5\" y=\"-141.8\" font-family=\"Helvetica,sans-Serif\" font-size=\"14.00\" fill=\"#000000\">price ≤ 455.5</text>\n<text text-anchor=\"start\" x=\"571.5\" y=\"-126.8\" font-family=\"Helvetica,sans-Serif\" font-size=\"14.00\" fill=\"#000000\">gini = 0.431</text>\n<text text-anchor=\"start\" x=\"553.5\" y=\"-111.8\" font-family=\"Helvetica,sans-Serif\" font-size=\"14.00\" fill=\"#000000\">samples = 35648</text>\n<text text-anchor=\"start\" x=\"527\" y=\"-96.8\" font-family=\"Helvetica,sans-Serif\" font-size=\"14.00\" fill=\"#000000\">value = [5801.2, 12687.0]</text>\n</g>\n<!-- 1&#45;&gt;5 -->\n<g id=\"edge5\" class=\"edge\">\n<title>1&#45;&gt;5</title>\n<path fill=\"none\" stroke=\"#000000\" d=\"M609.5,-192.9465C609.5,-184.776 609.5,-175.9318 609.5,-167.3697\"/>\n<polygon fill=\"#000000\" stroke=\"#000000\" points=\"613.0001,-167.13 609.5,-157.13 606.0001,-167.13 613.0001,-167.13\"/>\n</g>\n<!-- 3 -->\n<g id=\"node4\" class=\"node\">\n<title>3</title>\n<path fill=\"#a7d3f3\" stroke=\"#000000\" d=\"M161,-53C161,-53 12,-53 12,-53 6,-53 0,-47 0,-41 0,-41 0,-12 0,-12 0,-6 6,0 12,0 12,0 161,0 161,0 167,0 173,-6 173,-12 173,-12 173,-41 173,-41 173,-47 167,-53 161,-53\"/>\n<text text-anchor=\"start\" x=\"48.5\" y=\"-37.8\" font-family=\"Helvetica,sans-Serif\" font-size=\"14.00\" fill=\"#000000\">gini = 0.459</text>\n<text text-anchor=\"start\" x=\"30.5\" y=\"-22.8\" font-family=\"Helvetica,sans-Serif\" font-size=\"14.00\" fill=\"#000000\">samples = 15390</text>\n<text text-anchor=\"start\" x=\"8\" y=\"-7.8\" font-family=\"Helvetica,sans-Serif\" font-size=\"14.00\" fill=\"#000000\">value = [2794.0, 5043.0]</text>\n</g>\n<!-- 2&#45;&gt;3 -->\n<g id=\"edge3\" class=\"edge\">\n<title>2&#45;&gt;3</title>\n<path fill=\"none\" stroke=\"#000000\" d=\"M210.1605,-88.9777C189.9496,-78.7664 167.8906,-67.6214 148.0722,-57.6085\"/>\n<polygon fill=\"#000000\" stroke=\"#000000\" points=\"149.6427,-54.4806 139.1389,-53.095 146.486,-60.7285 149.6427,-54.4806\"/>\n</g>\n<!-- 4 -->\n<g id=\"node5\" class=\"node\">\n<title>4</title>\n<path fill=\"#9bcef2\" stroke=\"#000000\" d=\"M352,-53C352,-53 203,-53 203,-53 197,-53 191,-47 191,-41 191,-41 191,-12 191,-12 191,-6 197,0 203,0 203,0 352,0 352,0 358,0 364,-6 364,-12 364,-12 364,-41 364,-41 364,-47 358,-53 352,-53\"/>\n<text text-anchor=\"start\" x=\"239.5\" y=\"-37.8\" font-family=\"Helvetica,sans-Serif\" font-size=\"14.00\" fill=\"#000000\">gini = 0.443</text>\n<text text-anchor=\"start\" x=\"221.5\" y=\"-22.8\" font-family=\"Helvetica,sans-Serif\" font-size=\"14.00\" fill=\"#000000\">samples = 20051</text>\n<text text-anchor=\"start\" x=\"199\" y=\"-7.8\" font-family=\"Helvetica,sans-Serif\" font-size=\"14.00\" fill=\"#000000\">value = [3424.8, 6893.4]</text>\n</g>\n<!-- 2&#45;&gt;4 -->\n<g id=\"edge4\" class=\"edge\">\n<title>2&#45;&gt;4</title>\n<path fill=\"none\" stroke=\"#000000\" d=\"M277.5,-88.9777C277.5,-80.7364 277.5,-71.887 277.5,-63.5153\"/>\n<polygon fill=\"#000000\" stroke=\"#000000\" points=\"281.0001,-63.2484 277.5,-53.2485 274.0001,-63.2485 281.0001,-63.2484\"/>\n</g>\n<!-- 6 -->\n<g id=\"node7\" class=\"node\">\n<title>6</title>\n<path fill=\"#97cbf1\" stroke=\"#000000\" d=\"M543,-53C543,-53 394,-53 394,-53 388,-53 382,-47 382,-41 382,-41 382,-12 382,-12 382,-6 388,0 394,0 394,0 543,0 543,0 549,0 555,-6 555,-12 555,-12 555,-41 555,-41 555,-47 549,-53 543,-53\"/>\n<text text-anchor=\"start\" x=\"430.5\" y=\"-37.8\" font-family=\"Helvetica,sans-Serif\" font-size=\"14.00\" fill=\"#000000\">gini = 0.436</text>\n<text text-anchor=\"start\" x=\"412.5\" y=\"-22.8\" font-family=\"Helvetica,sans-Serif\" font-size=\"14.00\" fill=\"#000000\">samples = 24854</text>\n<text text-anchor=\"start\" x=\"390\" y=\"-7.8\" font-family=\"Helvetica,sans-Serif\" font-size=\"14.00\" fill=\"#000000\">value = [4133.2, 8712.6]</text>\n</g>\n<!-- 5&#45;&gt;6 -->\n<g id=\"edge6\" class=\"edge\">\n<title>5&#45;&gt;6</title>\n<path fill=\"none\" stroke=\"#000000\" d=\"M559.7887,-88.9777C545.6063,-79.2713 530.1912,-68.7213 516.1358,-59.1018\"/>\n<polygon fill=\"#000000\" stroke=\"#000000\" points=\"517.8124,-56.0081 507.5833,-53.2485 513.8589,-61.7847 517.8124,-56.0081\"/>\n</g>\n<!-- 7 -->\n<g id=\"node8\" class=\"node\">\n<title>7</title>\n<path fill=\"#8cc6f0\" stroke=\"#000000\" d=\"M734,-53C734,-53 585,-53 585,-53 579,-53 573,-47 573,-41 573,-41 573,-12 573,-12 573,-6 579,0 585,0 585,0 734,0 734,0 740,0 746,-6 746,-12 746,-12 746,-41 746,-41 746,-47 740,-53 734,-53\"/>\n<text text-anchor=\"start\" x=\"621.5\" y=\"-37.8\" font-family=\"Helvetica,sans-Serif\" font-size=\"14.00\" fill=\"#000000\">gini = 0.416</text>\n<text text-anchor=\"start\" x=\"603.5\" y=\"-22.8\" font-family=\"Helvetica,sans-Serif\" font-size=\"14.00\" fill=\"#000000\">samples = 10794</text>\n<text text-anchor=\"start\" x=\"581\" y=\"-7.8\" font-family=\"Helvetica,sans-Serif\" font-size=\"14.00\" fill=\"#000000\">value = [1668.0, 3974.4]</text>\n</g>\n<!-- 5&#45;&gt;7 -->\n<g id=\"edge7\" class=\"edge\">\n<title>5&#45;&gt;7</title>\n<path fill=\"none\" stroke=\"#000000\" d=\"M627.1281,-88.9777C631.588,-80.3702 636.3916,-71.0992 640.8979,-62.402\"/>\n<polygon fill=\"#000000\" stroke=\"#000000\" points=\"644.1478,-63.7376 645.6407,-53.2485 637.9325,-60.5172 644.1478,-63.7376\"/>\n</g>\n<!-- 9 -->\n<g id=\"node10\" class=\"node\">\n<title>9</title>\n<path fill=\"#f6fbfe\" stroke=\"#000000\" d=\"M1001.5,-157C1001.5,-157 781.5,-157 781.5,-157 775.5,-157 769.5,-151 769.5,-145 769.5,-145 769.5,-101 769.5,-101 769.5,-95 775.5,-89 781.5,-89 781.5,-89 1001.5,-89 1001.5,-89 1007.5,-89 1013.5,-95 1013.5,-101 1013.5,-101 1013.5,-145 1013.5,-145 1013.5,-151 1007.5,-157 1001.5,-157\"/>\n<text text-anchor=\"start\" x=\"777.5\" y=\"-141.8\" font-family=\"Helvetica,sans-Serif\" font-size=\"14.00\" fill=\"#000000\">product_description_lenght ≤ 391.5</text>\n<text text-anchor=\"start\" x=\"862\" y=\"-126.8\" font-family=\"Helvetica,sans-Serif\" font-size=\"14.00\" fill=\"#000000\">gini = 0.5</text>\n<text text-anchor=\"start\" x=\"839.5\" y=\"-111.8\" font-family=\"Helvetica,sans-Serif\" font-size=\"14.00\" fill=\"#000000\">samples = 7932</text>\n<text text-anchor=\"start\" x=\"813\" y=\"-96.8\" font-family=\"Helvetica,sans-Serif\" font-size=\"14.00\" fill=\"#000000\">value = [1869.2, 1955.4]</text>\n</g>\n<!-- 8&#45;&gt;9 -->\n<g id=\"edge9\" class=\"edge\">\n<title>8&#45;&gt;9</title>\n<path fill=\"none\" stroke=\"#000000\" d=\"M891.5,-192.9465C891.5,-184.776 891.5,-175.9318 891.5,-167.3697\"/>\n<polygon fill=\"#000000\" stroke=\"#000000\" points=\"895.0001,-167.13 891.5,-157.13 888.0001,-167.13 895.0001,-167.13\"/>\n</g>\n<!-- 12 -->\n<g id=\"node13\" class=\"node\">\n<title>12</title>\n<path fill=\"#f7d7c0\" stroke=\"#000000\" d=\"M1276.5,-157C1276.5,-157 1124.5,-157 1124.5,-157 1118.5,-157 1112.5,-151 1112.5,-145 1112.5,-145 1112.5,-101 1112.5,-101 1112.5,-95 1118.5,-89 1124.5,-89 1124.5,-89 1276.5,-89 1276.5,-89 1282.5,-89 1288.5,-95 1288.5,-101 1288.5,-101 1288.5,-145 1288.5,-145 1288.5,-151 1282.5,-157 1276.5,-157\"/>\n<text text-anchor=\"start\" x=\"1120.5\" y=\"-141.8\" font-family=\"Helvetica,sans-Serif\" font-size=\"14.00\" fill=\"#000000\">payment_value ≤ 8506.0</text>\n<text text-anchor=\"start\" x=\"1162.5\" y=\"-126.8\" font-family=\"Helvetica,sans-Serif\" font-size=\"14.00\" fill=\"#000000\">gini = 0.482</text>\n<text text-anchor=\"start\" x=\"1152.5\" y=\"-111.8\" font-family=\"Helvetica,sans-Serif\" font-size=\"14.00\" fill=\"#000000\">samples = 250</text>\n<text text-anchor=\"start\" x=\"1138.5\" y=\"-96.8\" font-family=\"Helvetica,sans-Serif\" font-size=\"14.00\" fill=\"#000000\">value = [68.8, 46.8]</text>\n</g>\n<!-- 8&#45;&gt;12 -->\n<g id=\"edge12\" class=\"edge\">\n<title>8&#45;&gt;12</title>\n<path fill=\"none\" stroke=\"#000000\" d=\"M978.396,-197.7534C1017.1487,-184.7105 1062.9697,-169.2885 1102.8976,-155.85\"/>\n<polygon fill=\"#000000\" stroke=\"#000000\" points=\"1104.0191,-159.1655 1112.3803,-152.6584 1101.7862,-152.5312 1104.0191,-159.1655\"/>\n</g>\n<!-- 10 -->\n<g id=\"node11\" class=\"node\">\n<title>10</title>\n<path fill=\"#e6f3fc\" stroke=\"#000000\" d=\"M908.5,-53C908.5,-53 776.5,-53 776.5,-53 770.5,-53 764.5,-47 764.5,-41 764.5,-41 764.5,-12 764.5,-12 764.5,-6 770.5,0 776.5,0 776.5,0 908.5,0 908.5,0 914.5,0 920.5,-6 920.5,-12 920.5,-12 920.5,-41 920.5,-41 920.5,-47 914.5,-53 908.5,-53\"/>\n<text text-anchor=\"start\" x=\"804.5\" y=\"-37.8\" font-family=\"Helvetica,sans-Serif\" font-size=\"14.00\" fill=\"#000000\">gini = 0.498</text>\n<text text-anchor=\"start\" x=\"790.5\" y=\"-22.8\" font-family=\"Helvetica,sans-Serif\" font-size=\"14.00\" fill=\"#000000\">samples = 2734</text>\n<text text-anchor=\"start\" x=\"772.5\" y=\"-7.8\" font-family=\"Helvetica,sans-Serif\" font-size=\"14.00\" fill=\"#000000\">value = [620.4, 709.8]</text>\n</g>\n<!-- 9&#45;&gt;10 -->\n<g id=\"edge10\" class=\"edge\">\n<title>9&#45;&gt;10</title>\n<path fill=\"none\" stroke=\"#000000\" d=\"M874.2244,-88.9777C869.8538,-80.3702 865.1462,-71.0992 860.73,-62.402\"/>\n<polygon fill=\"#000000\" stroke=\"#000000\" points=\"863.7304,-60.5802 856.0821,-53.2485 857.4889,-63.7495 863.7304,-60.5802\"/>\n</g>\n<!-- 11 -->\n<g id=\"node12\" class=\"node\">\n<title>11</title>\n<path fill=\"#fffffe\" stroke=\"#000000\" d=\"M1100,-53C1100,-53 951,-53 951,-53 945,-53 939,-47 939,-41 939,-41 939,-12 939,-12 939,-6 945,0 951,0 951,0 1100,0 1100,0 1106,0 1112,-6 1112,-12 1112,-12 1112,-41 1112,-41 1112,-47 1106,-53 1100,-53\"/>\n<text text-anchor=\"start\" x=\"996\" y=\"-37.8\" font-family=\"Helvetica,sans-Serif\" font-size=\"14.00\" fill=\"#000000\">gini = 0.5</text>\n<text text-anchor=\"start\" x=\"973.5\" y=\"-22.8\" font-family=\"Helvetica,sans-Serif\" font-size=\"14.00\" fill=\"#000000\">samples = 5198</text>\n<text text-anchor=\"start\" x=\"947\" y=\"-7.8\" font-family=\"Helvetica,sans-Serif\" font-size=\"14.00\" fill=\"#000000\">value = [1248.8, 1245.6]</text>\n</g>\n<!-- 9&#45;&gt;11 -->\n<g id=\"edge11\" class=\"edge\">\n<title>9&#45;&gt;11</title>\n<path fill=\"none\" stroke=\"#000000\" d=\"M938.7434,-88.9777C952.2217,-79.2713 966.8715,-68.7213 980.2291,-59.1018\"/>\n<polygon fill=\"#000000\" stroke=\"#000000\" points=\"982.2876,-61.9325 988.357,-53.2485 978.1969,-56.2522 982.2876,-61.9325\"/>\n</g>\n<!-- 13 -->\n<g id=\"node14\" class=\"node\">\n<title>13</title>\n<path fill=\"#d3e9f9\" stroke=\"#000000\" d=\"M1258.5,-53C1258.5,-53 1142.5,-53 1142.5,-53 1136.5,-53 1130.5,-47 1130.5,-41 1130.5,-41 1130.5,-12 1130.5,-12 1130.5,-6 1136.5,0 1142.5,0 1142.5,0 1258.5,0 1258.5,0 1264.5,0 1270.5,-6 1270.5,-12 1270.5,-12 1270.5,-41 1270.5,-41 1270.5,-47 1264.5,-53 1258.5,-53\"/>\n<text text-anchor=\"start\" x=\"1162.5\" y=\"-37.8\" font-family=\"Helvetica,sans-Serif\" font-size=\"14.00\" fill=\"#000000\">gini = 0.492</text>\n<text text-anchor=\"start\" x=\"1156.5\" y=\"-22.8\" font-family=\"Helvetica,sans-Serif\" font-size=\"14.00\" fill=\"#000000\">samples = 52</text>\n<text text-anchor=\"start\" x=\"1138.5\" y=\"-7.8\" font-family=\"Helvetica,sans-Serif\" font-size=\"14.00\" fill=\"#000000\">value = [11.2, 14.4]</text>\n</g>\n<!-- 12&#45;&gt;13 -->\n<g id=\"edge13\" class=\"edge\">\n<title>12&#45;&gt;13</title>\n<path fill=\"none\" stroke=\"#000000\" d=\"M1200.5,-88.9777C1200.5,-80.7364 1200.5,-71.887 1200.5,-63.5153\"/>\n<polygon fill=\"#000000\" stroke=\"#000000\" points=\"1204.0001,-63.2484 1200.5,-53.2485 1197.0001,-63.2485 1204.0001,-63.2484\"/>\n</g>\n<!-- 14 -->\n<g id=\"node15\" class=\"node\">\n<title>14</title>\n<path fill=\"#f4c8a8\" stroke=\"#000000\" d=\"M1416.5,-53C1416.5,-53 1300.5,-53 1300.5,-53 1294.5,-53 1288.5,-47 1288.5,-41 1288.5,-41 1288.5,-12 1288.5,-12 1288.5,-6 1294.5,0 1300.5,0 1300.5,0 1416.5,0 1416.5,0 1422.5,0 1428.5,-6 1428.5,-12 1428.5,-12 1428.5,-41 1428.5,-41 1428.5,-47 1422.5,-53 1416.5,-53\"/>\n<text text-anchor=\"start\" x=\"1320.5\" y=\"-37.8\" font-family=\"Helvetica,sans-Serif\" font-size=\"14.00\" fill=\"#000000\">gini = 0.461</text>\n<text text-anchor=\"start\" x=\"1310.5\" y=\"-22.8\" font-family=\"Helvetica,sans-Serif\" font-size=\"14.00\" fill=\"#000000\">samples = 198</text>\n<text text-anchor=\"start\" x=\"1296.5\" y=\"-7.8\" font-family=\"Helvetica,sans-Serif\" font-size=\"14.00\" fill=\"#000000\">value = [57.6, 32.4]</text>\n</g>\n<!-- 12&#45;&gt;14 -->\n<g id=\"edge14\" class=\"edge\">\n<title>12&#45;&gt;14</title>\n<path fill=\"none\" stroke=\"#000000\" d=\"M1256.2049,-88.9777C1272.472,-79.0424 1290.1864,-68.2232 1306.2326,-58.4228\"/>\n<polygon fill=\"#000000\" stroke=\"#000000\" points=\"1308.246,-61.2943 1314.9558,-53.095 1304.5973,-55.3204 1308.246,-61.2943\"/>\n</g>\n</g>\n</svg>\n"
          },
          "metadata": {
            "tags": []
          },
          "execution_count": 235
        }
      ]
    },
    {
      "cell_type": "markdown",
      "metadata": {
        "id": "NuWQzehgX3qO"
      },
      "source": [
        "Alunos\n",
        " * Vinicius Espindola 2018.1907.077-8\n",
        " * Kaio Lino 2018.1907.056-5"
      ]
    },
    {
      "cell_type": "markdown",
      "metadata": {
        "id": "Yuu9bb4ETpkG"
      },
      "source": [
        "# **Relatorio** \n",
        "\n",
        "---\n"
      ]
    },
    {
      "cell_type": "markdown",
      "metadata": {
        "id": "fpN-7PcTRTMT"
      },
      "source": [
        " Foi observado que a maioria dos reviews dos produtos são de cinco e uma estrela, isso se deve ao fato de que os reviews são muito extremos.\n",
        " \n",
        "Olhando para a árvore, conseguimos perceber que a partir das colunas utilizadas, o nó raiz escolhido pelo algoritmo do sklearn, é a coluna 'late_delivery', que significa: \"se houve atraso na entrega\", pois é a melhor coluna para dividir o dados. A partir disso, podemos olhar para o nó filho a esquerda da raiz, onde não houve atrasado, nó da coluna \n",
        "'bin_freight', onde representa se o preço do frete foi cara ou barato, indo pra o filho esquerdo, com o frete mais barato, temos o nó do tamanho da descrição, acreidto que esse nó significa que produtos com descrições maiores tendem a explicar melhor oque seja o produto, causando menor decepção pelo comprador. Assim, conseguimos chegar a um dos nós folhas, no caso o nó esquerdo, onde temos o vetor: \"value = [2794.0, 5043.0]\", dividindo-os em classe '0' e classe '1', onde a classe '0' representa a classes com poucas estrelas, e a classe um representa com '5' estrelas.\n",
        "\n",
        "\n",
        "**Portando, recomendamos ao dono do marketplace que:**\n",
        "\n",
        "1.   Não atrase as entregas;\n",
        "2.   Tente baixar o preço do frete;\n",
        "3.   Produto com valores menores, tendem a receber avaliações melhor(talvez pela baixa espectativa);\n",
        "4.   Tente criar uma descrição grande e rica de detalhes sobre seus produtos para que seu cliente saiba oque esta comprando, e não se decepcione, baixando sua 'review_score';\n",
        "5.   Compras de com valor alto, tende a ter notas baixas, provavelmente pelo alto investimento feito pelo cliente, e suas grande espectativas.\n",
        "\n"
      ]
    }
  ]
}